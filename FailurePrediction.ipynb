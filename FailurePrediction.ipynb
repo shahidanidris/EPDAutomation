{
 "cells": [
  {
   "cell_type": "code",
   "execution_count": 1,
   "id": "362620cb",
   "metadata": {},
   "outputs": [],
   "source": [
    "# Import necessary libraries\n",
    "import pandas as pd\n",
    "import numpy as np\n",
    "from sklearn.model_selection import train_test_split\n",
    "from sklearn.preprocessing import LabelEncoder\n",
    "from keras.utils import to_categorical\n",
    "from keras.preprocessing.text import Tokenizer\n",
    "from tensorflow.keras.preprocessing.sequence import pad_sequences\n",
    "from keras.layers import Dense, Input, LSTM, Embedding, Dropout, Activation\n",
    "from keras.layers import Bidirectional, GlobalMaxPool1D\n",
    "from keras.models import Model"
   ]
  },
  {
   "cell_type": "code",
   "execution_count": 2,
   "id": "a7ce70c7",
   "metadata": {},
   "outputs": [],
   "source": [
    "# Load the data\n",
    "df = pd.read_csv(\"dataframe_labeled.csv\")"
   ]
  },
  {
   "cell_type": "code",
   "execution_count": 3,
   "id": "2297451a",
   "metadata": {},
   "outputs": [],
   "source": [
    "# Preprocess the data\n",
    "texts = df['text'].values\n",
    "labels = df['failureCat'].values"
   ]
  },
  {
   "cell_type": "code",
   "execution_count": 4,
   "id": "2c0b274c",
   "metadata": {},
   "outputs": [],
   "source": [
    "# Convert labels to numerical values\n",
    "le = LabelEncoder()\n",
    "y = le.fit_transform(labels)"
   ]
  },
  {
   "cell_type": "code",
   "execution_count": 5,
   "id": "3a193b40",
   "metadata": {},
   "outputs": [],
   "source": [
    "# Convert the list to a set to remove duplicates\n",
    "unique_values = set(y)\n",
    "\n",
    "# Convert the set back to a list\n",
    "unique_values = list(unique_values)\n",
    "\n",
    "totalClasses = len(unique_values)"
   ]
  },
  {
   "cell_type": "code",
   "execution_count": 6,
   "id": "3aa31248",
   "metadata": {},
   "outputs": [],
   "source": [
    "# Tokenize the text data\n",
    "max_words = 10000\n",
    "max_len = 200\n",
    "tokenizer = Tokenizer(num_words=max_words)\n",
    "tokenizer.fit_on_texts(texts)\n",
    "sequences = tokenizer.texts_to_sequences(texts)\n",
    "x = pad_sequences(sequences, maxlen=max_len)"
   ]
  },
  {
   "cell_type": "code",
   "execution_count": 7,
   "id": "218ec2ee",
   "metadata": {},
   "outputs": [],
   "source": [
    "# Split the data into train, validation, and test sets\n",
    "x_train, x_test, y_train, y_test = train_test_split(x, y, test_size=0.2)\n",
    "x_train, x_val, y_train, y_val = train_test_split(x_train, y_train, test_size=0.2)"
   ]
  },
  {
   "cell_type": "code",
   "execution_count": 8,
   "id": "158e294f",
   "metadata": {},
   "outputs": [],
   "source": [
    "# Convert labels to one-hot encoded format\n",
    "y_train = to_categorical(y_train, num_classes=totalClasses)\n",
    "y_val = to_categorical(y_val, num_classes=totalClasses)\n",
    "y_test = to_categorical(y_test, num_classes=totalClasses)"
   ]
  },
  {
   "cell_type": "code",
   "execution_count": 9,
   "id": "ec3364af",
   "metadata": {},
   "outputs": [],
   "source": [
    "# Build the model\n",
    "input_ = Input(shape=(max_len,))\n",
    "x = Embedding(max_words, 128)(input_)\n",
    "x = LSTM(60, return_sequences=True, name='lstm_layer')(x)\n",
    "x = GlobalMaxPool1D()(x)\n",
    "x = Dropout(0.1)(x)\n",
    "x = Dense(50, activation=\"relu\")(x)\n",
    "x = Dropout(0.1)(x)\n",
    "x = Dense(totalClasses, activation=\"softmax\")(x)\n",
    "model = Model(inputs=input_, outputs=x)\n",
    "model.compile(loss='categorical_crossentropy', optimizer='adam', metrics=['accuracy'])"
   ]
  },
  {
   "cell_type": "code",
   "execution_count": 10,
   "id": "3c20b277",
   "metadata": {},
   "outputs": [
    {
     "name": "stdout",
     "output_type": "stream",
     "text": [
      "Epoch 1/10\n",
      "2/2 [==============================] - 2s 455ms/step - loss: 2.8753 - accuracy: 0.2200 - val_loss: 2.8352 - val_accuracy: 0.6400\n",
      "Epoch 2/10\n",
      "2/2 [==============================] - 0s 112ms/step - loss: 2.8346 - accuracy: 0.5600 - val_loss: 2.7852 - val_accuracy: 0.6400\n",
      "Epoch 3/10\n",
      "2/2 [==============================] - 0s 110ms/step - loss: 2.7813 - accuracy: 0.5600 - val_loss: 2.7201 - val_accuracy: 0.6400\n",
      "Epoch 4/10\n",
      "2/2 [==============================] - 0s 120ms/step - loss: 2.7233 - accuracy: 0.5600 - val_loss: 2.6309 - val_accuracy: 0.6400\n",
      "Epoch 5/10\n",
      "2/2 [==============================] - 0s 111ms/step - loss: 2.6250 - accuracy: 0.5600 - val_loss: 2.5057 - val_accuracy: 0.6400\n",
      "Epoch 6/10\n",
      "2/2 [==============================] - 0s 118ms/step - loss: 2.5162 - accuracy: 0.5600 - val_loss: 2.3303 - val_accuracy: 0.6400\n",
      "Epoch 7/10\n",
      "2/2 [==============================] - 0s 118ms/step - loss: 2.3404 - accuracy: 0.5600 - val_loss: 2.1052 - val_accuracy: 0.6400\n",
      "Epoch 8/10\n",
      "2/2 [==============================] - 0s 106ms/step - loss: 2.1564 - accuracy: 0.5600 - val_loss: 1.8812 - val_accuracy: 0.6400\n",
      "Epoch 9/10\n",
      "2/2 [==============================] - 0s 116ms/step - loss: 1.9662 - accuracy: 0.5600 - val_loss: 1.7163 - val_accuracy: 0.6400\n",
      "Epoch 10/10\n",
      "2/2 [==============================] - 0s 109ms/step - loss: 1.8507 - accuracy: 0.5600 - val_loss: 1.6396 - val_accuracy: 0.6400\n"
     ]
    },
    {
     "data": {
      "text/plain": [
       "<keras.callbacks.History at 0x23f50c860c8>"
      ]
     },
     "execution_count": 10,
     "metadata": {},
     "output_type": "execute_result"
    }
   ],
   "source": [
    "# Train the model\n",
    "model.fit(x_train, y_train, validation_data=(x_val, y_val), epochs=10, batch_size=64)"
   ]
  },
  {
   "cell_type": "code",
   "execution_count": 11,
   "id": "aae315d7",
   "metadata": {},
   "outputs": [
    {
     "name": "stdout",
     "output_type": "stream",
     "text": [
      "1/1 [==============================] - 0s 39ms/step - loss: 2.5850 - accuracy: 0.2812\n",
      "Test score: 2.5849671363830566\n",
      "Test accuracy: 0.28125\n"
     ]
    }
   ],
   "source": [
    "# Evaluate the model on the test set\n",
    "score, acc = model.evaluate(x_test, y_test, batch_size=64)\n",
    "print('Test score:', score)\n",
    "print('Test accuracy:', acc)"
   ]
  }
 ],
 "metadata": {
  "kernelspec": {
   "display_name": "Python 3 (ipykernel)",
   "language": "python",
   "name": "python3"
  },
  "language_info": {
   "codemirror_mode": {
    "name": "ipython",
    "version": 3
   },
   "file_extension": ".py",
   "mimetype": "text/x-python",
   "name": "python",
   "nbconvert_exporter": "python",
   "pygments_lexer": "ipython3",
   "version": "3.7.9"
  }
 },
 "nbformat": 4,
 "nbformat_minor": 5
}
