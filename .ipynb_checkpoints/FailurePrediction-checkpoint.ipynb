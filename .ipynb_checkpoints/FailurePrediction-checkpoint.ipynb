{
 "cells": [
  {
   "cell_type": "code",
   "execution_count": 1,
   "id": "4d1f6199",
   "metadata": {},
   "outputs": [],
   "source": [
    "# Import necessary libraries\n",
    "import pandas as pd\n",
    "import numpy as np\n",
    "from sklearn.model_selection import train_test_split\n",
    "from sklearn.preprocessing import LabelEncoder\n",
    "from keras.utils import to_categorical\n",
    "from keras.preprocessing.text import Tokenizer\n",
    "from tensorflow.keras.preprocessing.sequence import pad_sequences\n",
    "from keras.layers import Dense, Input, LSTM, Embedding, Dropout, Activation\n",
    "from keras.layers import Bidirectional, GlobalMaxPool1D\n",
    "from keras.models import Model"
   ]
  },
  {
   "cell_type": "code",
   "execution_count": 2,
   "id": "02fdbc25",
   "metadata": {},
   "outputs": [],
   "source": [
    "# Load the data\n",
    "df = pd.read_csv(\"dataframe_labeled.csv\")"
   ]
  },
  {
   "cell_type": "code",
   "execution_count": 3,
   "id": "702ca748",
   "metadata": {},
   "outputs": [],
   "source": [
    "# Preprocess the data\n",
    "texts = df['text'].values\n",
    "labels = df['failureCat'].values"
   ]
  },
  {
   "cell_type": "code",
   "execution_count": 4,
   "id": "cf3a55bb",
   "metadata": {},
   "outputs": [],
   "source": [
    "# Convert labels to numerical values\n",
    "le = LabelEncoder()\n",
    "y = le.fit_transform(labels)"
   ]
  },
  {
   "cell_type": "code",
   "execution_count": 5,
   "id": "f5fde579",
   "metadata": {},
   "outputs": [
    {
     "name": "stdout",
     "output_type": "stream",
     "text": [
      "[0, 1, 2, 3, 4, 5, 6, 7, 8, 9, 10, 11, 12, 13, 14, 15, 16, 17]\n"
     ]
    }
   ],
   "source": [
    "# Convert the list to a set to remove duplicates\n",
    "unique_values = set(y)\n",
    "\n",
    "# Convert the set back to a list\n",
    "unique_values = list(unique_values)\n",
    "\n",
    "totalClasses = len(unique_values)"
   ]
  },
  {
   "cell_type": "code",
   "execution_count": 6,
   "id": "ceff7220",
   "metadata": {},
   "outputs": [],
   "source": [
    "# Tokenize the text data\n",
    "max_words = 10000\n",
    "max_len = 200\n",
    "tokenizer = Tokenizer(num_words=max_words)\n",
    "tokenizer.fit_on_texts(texts)\n",
    "sequences = tokenizer.texts_to_sequences(texts)\n",
    "x = pad_sequences(sequences, maxlen=max_len)"
   ]
  },
  {
   "cell_type": "code",
   "execution_count": 7,
   "id": "a69f4279",
   "metadata": {},
   "outputs": [],
   "source": [
    "# Split the data into train, validation, and test sets\n",
    "x_train, x_test, y_train, y_test = train_test_split(x, y, test_size=0.2)\n",
    "x_train, x_val, y_train, y_val = train_test_split(x_train, y_train, test_size=0.2)"
   ]
  },
  {
   "cell_type": "code",
   "execution_count": 8,
   "id": "78ada5b2",
   "metadata": {},
   "outputs": [],
   "source": [
    "# Convert labels to one-hot encoded format\n",
    "y_train = to_categorical(y_train, num_classes=18)\n",
    "y_val = to_categorical(y_val, num_classes=18)\n",
    "y_test = to_categorical(y_test, num_classes=18)"
   ]
  },
  {
   "cell_type": "code",
   "execution_count": 9,
   "id": "868c03ab",
   "metadata": {},
   "outputs": [],
   "source": [
    "# Build the model\n",
    "input_ = Input(shape=(max_len,))\n",
    "x = Embedding(max_words, 128)(input_)\n",
    "x = LSTM(60, return_sequences=True, name='lstm_layer')(x)\n",
    "x = GlobalMaxPool1D()(x)\n",
    "x = Dropout(0.1)(x)\n",
    "x = Dense(50, activation=\"relu\")(x)\n",
    "x = Dropout(0.1)(x)\n",
    "x = Dense(18, activation=\"softmax\")(x)\n",
    "model = Model(inputs=input_, outputs=x)\n",
    "model.compile(loss='categorical_crossentropy', optimizer='adam', metrics=['accuracy'])"
   ]
  },
  {
   "cell_type": "code",
   "execution_count": 10,
   "id": "8b7599bf",
   "metadata": {},
   "outputs": [
    {
     "name": "stdout",
     "output_type": "stream",
     "text": [
      "Epoch 1/10\n",
      "2/2 [==============================] - 2s 491ms/step - loss: 2.8955 - accuracy: 0.0200 - val_loss: 2.8764 - val_accuracy: 0.0000e+00\n",
      "Epoch 2/10\n",
      "2/2 [==============================] - 0s 116ms/step - loss: 2.8635 - accuracy: 0.0800 - val_loss: 2.8543 - val_accuracy: 0.4000\n",
      "Epoch 3/10\n",
      "2/2 [==============================] - 0s 110ms/step - loss: 2.8390 - accuracy: 0.2300 - val_loss: 2.8279 - val_accuracy: 0.4800\n",
      "Epoch 4/10\n",
      "2/2 [==============================] - 0s 112ms/step - loss: 2.8070 - accuracy: 0.4300 - val_loss: 2.7914 - val_accuracy: 0.4800\n",
      "Epoch 5/10\n",
      "2/2 [==============================] - 0s 107ms/step - loss: 2.7568 - accuracy: 0.4000 - val_loss: 2.7354 - val_accuracy: 0.4800\n",
      "Epoch 6/10\n",
      "2/2 [==============================] - 0s 115ms/step - loss: 2.6893 - accuracy: 0.4500 - val_loss: 2.6545 - val_accuracy: 0.4800\n",
      "Epoch 7/10\n",
      "2/2 [==============================] - 0s 111ms/step - loss: 2.5903 - accuracy: 0.4600 - val_loss: 2.5595 - val_accuracy: 0.4800\n",
      "Epoch 8/10\n",
      "2/2 [==============================] - 0s 109ms/step - loss: 2.4802 - accuracy: 0.5100 - val_loss: 2.4654 - val_accuracy: 0.4800\n",
      "Epoch 9/10\n",
      "2/2 [==============================] - 0s 105ms/step - loss: 2.3675 - accuracy: 0.5200 - val_loss: 2.3904 - val_accuracy: 0.4800\n",
      "Epoch 10/10\n",
      "2/2 [==============================] - 0s 108ms/step - loss: 2.3162 - accuracy: 0.5200 - val_loss: 2.3255 - val_accuracy: 0.4800\n"
     ]
    },
    {
     "data": {
      "text/plain": [
       "<keras.callbacks.History at 0x27f9e9d4588>"
      ]
     },
     "execution_count": 10,
     "metadata": {},
     "output_type": "execute_result"
    }
   ],
   "source": [
    "# Train the model\n",
    "model.fit(x_train, y_train, validation_data=(x_val, y_val), epochs=10, batch_size=64)"
   ]
  },
  {
   "cell_type": "code",
   "execution_count": 11,
   "id": "ab842910",
   "metadata": {},
   "outputs": [
    {
     "name": "stdout",
     "output_type": "stream",
     "text": [
      "1/1 [==============================] - 0s 35ms/step - loss: 2.2360 - accuracy: 0.5000\n",
      "Test score: 2.2359800338745117\n",
      "Test accuracy: 0.5\n"
     ]
    }
   ],
   "source": [
    "# Evaluate the model on the test set\n",
    "score, acc = model.evaluate(x_test, y_test, batch_size=64)\n",
    "print('Test score:', score)\n",
    "print('Test accuracy:', acc)"
   ]
  }
 ],
 "metadata": {
  "kernelspec": {
   "display_name": "Python 3 (ipykernel)",
   "language": "python",
   "name": "python3"
  },
  "language_info": {
   "codemirror_mode": {
    "name": "ipython",
    "version": 3
   },
   "file_extension": ".py",
   "mimetype": "text/x-python",
   "name": "python",
   "nbconvert_exporter": "python",
   "pygments_lexer": "ipython3",
   "version": "3.7.9"
  }
 },
 "nbformat": 4,
 "nbformat_minor": 5
}
